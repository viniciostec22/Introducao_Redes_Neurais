{
  "nbformat": 4,
  "nbformat_minor": 0,
  "metadata": {
    "colab": {
      "provenance": [],
      "authorship_tag": "ABX9TyM8RGaSAsAslFZEWNixiity",
      "include_colab_link": true
    },
    "kernelspec": {
      "name": "python3",
      "display_name": "Python 3"
    },
    "language_info": {
      "name": "python"
    }
  },
  "cells": [
    {
      "cell_type": "markdown",
      "metadata": {
        "id": "view-in-github",
        "colab_type": "text"
      },
      "source": [
        "<a href=\"https://colab.research.google.com/github/viniciostec22/Introducao_Redes_Neurais/blob/main/Cnn_pytorch.ipynb\" target=\"_parent\"><img src=\"https://colab.research.google.com/assets/colab-badge.svg\" alt=\"Open In Colab\"/></a>"
      ]
    },
    {
      "cell_type": "markdown",
      "source": [
        "#Criar a rede Neural\n"
      ],
      "metadata": {
        "id": "raIzSDG6cKKI"
      }
    },
    {
      "cell_type": "code",
      "execution_count": 1,
      "metadata": {
        "id": "PnIF-tx4KrR1"
      },
      "outputs": [],
      "source": [
        "import torch\n",
        "import numpy as np\n",
        "from torch import nn"
      ]
    },
    {
      "cell_type": "code",
      "source": [
        "class LineNetwork(nn.Module):\n",
        "  def __init__(self):\n",
        "    super().__init__()\n",
        "    self.layers = nn.Sequential(\n",
        "        nn.Linear(1, 1)\n",
        "    )\n",
        "\n",
        "  #como a rede computa\n",
        "  def forward(self, x):\n",
        "    return self.layers(x)"
      ],
      "metadata": {
        "id": "FPZVBNfgVr-c"
      },
      "execution_count": 2,
      "outputs": []
    },
    {
      "cell_type": "markdown",
      "source": [
        "\n",
        "Trainar a rede neural"
      ],
      "metadata": {
        "id": "qUG5Ha4YbwNj"
      }
    },
    {
      "cell_type": "code",
      "source": [
        "from torch.utils.data import Dataset, DataLoader\n",
        "import torch.distributions.uniform as urand"
      ],
      "metadata": {
        "id": "gKb2xQmrYImc"
      },
      "execution_count": 4,
      "outputs": []
    },
    {
      "cell_type": "code",
      "source": [
        "class AlgebraicDataset(Dataset):\n",
        "  def __init__(self, f, interval, nsamples):\n",
        "    X = urand.Uniform(interval[0], interval[1]).sample([nsamples])\n",
        "    self.data = [(x, f(x)) for x in X]\n",
        "\n",
        "  def __len__(self):\n",
        "    return len(self.data)\n",
        "\n",
        "  def __getitem__(self, idx):\n",
        "    return self.data[idx]"
      ],
      "metadata": {
        "id": "EqA1_-IKYT0P"
      },
      "execution_count": 18,
      "outputs": []
    },
    {
      "cell_type": "code",
      "source": [
        "line = lambda x: 2*x + 3\n",
        "interval = (-10, 10)\n",
        "train_nsamples = 1000\n",
        "test_nsamples = 100"
      ],
      "metadata": {
        "id": "vGiVDOVPaDfN"
      },
      "execution_count": 19,
      "outputs": []
    },
    {
      "cell_type": "code",
      "source": [
        "train_dataset = AlgebraicDataset(line, interval, train_nsamples)\n",
        "test_dataset = AlgebraicDataset(line, interval, test_nsamples)\n",
        "\n",
        "train_dataloader = DataLoader(train_dataset, batch_size=train_nsamples, shuffle=True)\n",
        "test_dataloader = DataLoader(test_dataset, batch_size=test_nsamples, shuffle=True)"
      ],
      "metadata": {
        "id": "Ydw9nU-YZ1th"
      },
      "execution_count": 20,
      "outputs": []
    },
    {
      "cell_type": "markdown",
      "source": [
        "#Hiperparâmetros de Otimização"
      ],
      "metadata": {
        "id": "U4iC0MEsckG_"
      }
    },
    {
      "cell_type": "code",
      "source": [
        "device = 'cuda' if torch.cuda.is_available() else 'cpu'\n",
        "print(f'Rodando na {device}')"
      ],
      "metadata": {
        "colab": {
          "base_uri": "https://localhost:8080/"
        },
        "id": "EZfUWdHuoQRE",
        "outputId": "a95b4c28-ee8a-4844-b966-7686e9ad549c"
      },
      "execution_count": 21,
      "outputs": [
        {
          "output_type": "stream",
          "name": "stdout",
          "text": [
            "Rodando na cpu\n"
          ]
        }
      ]
    },
    {
      "cell_type": "code",
      "source": [
        "model = LineNetwork().to(device)"
      ],
      "metadata": {
        "id": "nyXiCI73oLW6"
      },
      "execution_count": 22,
      "outputs": []
    },
    {
      "cell_type": "code",
      "source": [
        "#função de perda\n",
        "lossfunc = nn.MSELoss()\n",
        "#Gradiente descendente Estocástico\n",
        "optimizer = torch.optim.SGD(model.parameters(), lr=1e-3)\n",
        "#taxa de aprendizado lr\n"
      ],
      "metadata": {
        "id": "YRzOPmSxcnRP"
      },
      "execution_count": 23,
      "outputs": []
    },
    {
      "cell_type": "code",
      "source": [
        "def train(model, dataloader, lossfunc, optimizer):\n",
        "  model.train()\n",
        "\n",
        "  for x, y in dataloader:\n",
        "    x = x.unsqueeze(1).to(device)\n",
        "    y = y.unsqueeze(1).to(device)"
      ],
      "metadata": {
        "id": "mZWzrmMWo-Si"
      },
      "execution_count": null,
      "outputs": []
    }
  ]
}